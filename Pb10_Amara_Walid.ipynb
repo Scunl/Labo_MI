{
 "cells": [
  {
   "cell_type": "markdown",
   "metadata": {},
   "source": [
    "# Problème 10 : Calcul de $e$, $\\pi$ et $\\sqrt{a}$"
   ]
  },
  {
   "cell_type": "markdown",
   "metadata": {},
   "source": [
    "## A. Nombres à virgule flottante\n",
    "\n",
    "Avant de faire cette partie, il est nécessaire de lire le document *Représentation des réels : nombres à virgule flottante*."
   ]
  },
  {
   "cell_type": "code",
   "execution_count": 14,
   "metadata": {},
   "outputs": [
    {
     "name": "stdout",
     "output_type": "stream",
     "text": [
      "2.718281828459045\n",
      "3.141592653589793\n"
     ]
    }
   ],
   "source": [
    "from math import e, pi\n",
    "print(e)\n",
    "print(pi)"
   ]
  },
  {
   "cell_type": "markdown",
   "metadata": {},
   "source": [
    "* Pourquoi les constantes `e` et `pi` du module `math` ne contiennent que 15 décimales ?"
   ]
  },
  {
   "cell_type": "markdown",
   "metadata": {},
   "source": [
    "<font color=blue>\n",
    "    \n",
    "Car e et Pi sont deux nombres irrationnel qui ne peuvent être uniquement approximé    \n",
    "</font>"
   ]
  },
  {
   "cell_type": "markdown",
   "metadata": {},
   "source": [
    "* Expliquer pourquoi le nombre $0.25$ est représenté de façon exacte en `float` mais pas le nombre $0.2$."
   ]
  },
  {
   "cell_type": "code",
   "execution_count": 15,
   "metadata": {
    "scrolled": true
   },
   "outputs": [
    {
     "data": {
      "text/plain": [
       "'0.25'"
      ]
     },
     "execution_count": 15,
     "metadata": {},
     "output_type": "execute_result"
    }
   ],
   "source": [
    "format(0.25, '.40g')"
   ]
  },
  {
   "cell_type": "code",
   "execution_count": 16,
   "metadata": {},
   "outputs": [
    {
     "data": {
      "text/plain": [
       "'0.2000000000000000111022302462515654042363'"
      ]
     },
     "execution_count": 16,
     "metadata": {},
     "output_type": "execute_result"
    }
   ],
   "source": [
    "format(0.2, '.40g')"
   ]
  },
  {
   "cell_type": "markdown",
   "metadata": {},
   "source": [
    "<font color=blue>\n",
    "\n",
    "Comme 0.25 est une puissance de 2 soit $2^-2$ alors il est très facile de l'exprimer pour un ordinateur (c'est comme compter sur les doigts pour un humain)\n",
    "Or 0.2 n'est pas une puissance de 2, ainsi il est approximé ce qui donne cette imprecision\n",
    "</font>"
   ]
  },
  {
   "cell_type": "markdown",
   "metadata": {},
   "source": [
    "* La fonction suivante est conçue pour déterminer si une matrice $2 \\times 2$ est inversible. Pourquoi donne-t-elle un résultat incorrect pour la matrice $\\begin{pmatrix} 0.3 & 1 \\\\ 0.9 & 3 \\end{pmatrix}$ ?"
   ]
  },
  {
   "cell_type": "code",
   "execution_count": 17,
   "metadata": {},
   "outputs": [
    {
     "data": {
      "text/plain": [
       "True"
      ]
     },
     "execution_count": 17,
     "metadata": {},
     "output_type": "execute_result"
    }
   ],
   "source": [
    "def mat_inversible(M):\n",
    "    a, b = M[0]\n",
    "    c, d = M[1]\n",
    "    return a*d - b*c != 0\n",
    "\n",
    "mat_inversible([[0.3, 1], [0.9, 3]])"
   ]
  },
  {
   "cell_type": "markdown",
   "metadata": {},
   "source": [
    "<font color=blue>\n",
    "    \n",
    "Non ! Cette fonction calcul le mauvais determinant car en python, $0.3 \\times 0.3 = 0.89999...$ Ceci est dû à une approximation des floattant en python\n",
    "Ainsi nous nous retrouvons avec un detreminant égal à 0 en mathématique mais différent de 0 en python\n",
    "</font>"
   ]
  },
  {
   "cell_type": "markdown",
   "metadata": {},
   "source": [
    "* On calcule la somme $\\displaystyle \\sum_{k=1}^n \\frac{1}{k^4}$ pour différentes valeurs de $n$. Pourquoi le résultat est-il le même pour $n = 10 000$ et $n= 1 000 000$ ?"
   ]
  },
  {
   "cell_type": "code",
   "execution_count": 18,
   "metadata": {},
   "outputs": [
    {
     "name": "stdout",
     "output_type": "stream",
     "text": [
      "1.0823229053444727\n",
      "1.082323233710861\n",
      "1.082323233710861\n"
     ]
    }
   ],
   "source": [
    "for n in [100, 10000, 1000000]:\n",
    "    s = 0\n",
    "    for k in range(1, n+1):\n",
    "        s += 1/k**4\n",
    "    print(s)"
   ]
  },
  {
   "cell_type": "markdown",
   "metadata": {},
   "source": [
    "<font color=blue>\n",
    "    \n",
    "D'après le polycopié, lors du calcul de somme, il faut prendre des nombres plus petits pour calculer ces derniers.\n",
    "</font>"
   ]
  },
  {
   "cell_type": "markdown",
   "metadata": {},
   "source": [
    "* Proposer une façon de calculer la somme qui évite ce problème (toujours en utilisant des `float`)."
   ]
  },
  {
   "cell_type": "code",
   "execution_count": 19,
   "metadata": {},
   "outputs": [
    {
     "name": "stdout",
     "output_type": "stream",
     "text": [
      "1.0820365834937566\n",
      "1.0823229053444727\n",
      "1.082323233378306\n"
     ]
    }
   ],
   "source": [
    "for n in [10, 100, 1000]:\n",
    "    s = 0\n",
    "    for k in range(1, n+1):\n",
    "        s += 1/k**4\n",
    "    print(s)"
   ]
  },
  {
   "cell_type": "markdown",
   "metadata": {},
   "source": [
    "## B. Calcul des décimales de $e$ et $\\pi$"
   ]
  },
  {
   "cell_type": "markdown",
   "metadata": {},
   "source": [
    "Depuis l'introduction de ces constantes (dans l'antiquité pour $\\pi$ et au XVIIe siècle pour $e$), les mathématiciens ont cherché à calculer leurs **décimales**, c'est-à-dire leurs chiffres après la virgule, le plus loin possible. De nombreuses méthodes, plus ou moins performantes, ont été développés. Avant l'apparition de l'ordinateur, les calculs étaient naturellement effectués à la main, ce qui n'a pas permis d'aller au-delà de quelques centaines de décimales. Avec l'ordinateur, les calculs ont pu être menée jusqu'à une précision infiniment plus grande.\n",
    "\n",
    "Nous allons ici calculer les décimales de $e$ et de $\\pi$ par des **développements en série** (de la fonction exponentielle pour $e$ et de la fonction $\\arctan$ pour $\\pi$).\n",
    "\n",
    "Ces méthodes fournissent des approximations de $e$ et $\\pi$ sous forme de nombres rationnels. Nous allons donc utiliser la classe `Rat` programmée dans le Problème 3 plutôt que le type `float`. La classe `Rat` représente un nombre rationnel par un couple d'entiers (le numérateur et le dénominateur). Puisque le type `int` permet de représenter des entiers de taille illimitée (c'est une spécificité de Python), la classe `Rat` permet de représenter tous les rationnels et donc de mener les calculs sans limitation sur la précision."
   ]
  },
  {
   "cell_type": "markdown",
   "metadata": {},
   "source": [
    "* Reprendre la classe `Rat` utilisée dans le Problème 3."
   ]
  },
  {
   "cell_type": "code",
   "execution_count": 43,
   "metadata": {},
   "outputs": [],
   "source": [
    "import math\n",
    "\n",
    "class Rat:\n",
    "\n",
    "    def __init__(self, num, denom=1) -> None:\n",
    "        pgcd = math.gcd(num, denom)\n",
    "        self.n = num//pgcd\n",
    "        self.d = denom//pgcd\n",
    "        if self.d < 0:\n",
    "            self.d = -self.d\n",
    "            self.n = -self.n\n",
    "        if self.d == 0:\n",
    "            raise ValueError(\"Denom = 0\")\n",
    "\n",
    "    def __str__(self) -> str:\n",
    "        if self.d == 1:\n",
    "            return str(self.n)\n",
    "        elif self.d == -1:\n",
    "            return str(-self.n)\n",
    "        else:\n",
    "            return str(self.n) + \"/\" + str(self.d)\n",
    "\n",
    "\n",
    "    def __repr__(self):\n",
    "        \"\"\"\n",
    "        >>> rat = Rat(1, 2)\n",
    "        >>> repr(rat)\n",
    "        'Rat(1, 2)'\n",
    "        >>> rat = Rat(-3, 4)\n",
    "        >>> repr(rat)\n",
    "        'Rat(-3, 4)'\n",
    "        \"\"\"\n",
    "        if self.d <= 0:\n",
    "            self.n = -self.n\n",
    "        return \"Rat\" + str((self.n, abs(self.d)))\n",
    "\n",
    "\n",
    "    def __neg__(self):\n",
    "        \"\"\"\n",
    "        >>> rat = Rat(1, 2)\n",
    "        >>> neg_rat = -rat\n",
    "        >>> neg_rat.n\n",
    "        -1\n",
    "        >>> neg_rat.d\n",
    "        2\n",
    "        \"\"\"\n",
    "        return Rat(-self.n, self.d)\n",
    "\n",
    "\n",
    "    def __add__(self, other):\n",
    "        \"\"\"\n",
    "        >>> rat1 = Rat(1, 2)\n",
    "        >>> rat2 = Rat(3, 4)\n",
    "        >>> sum_rat = rat1 + rat2\n",
    "        >>> sum_rat.n\n",
    "        5\n",
    "        >>> sum_rat.d\n",
    "        4\n",
    "        \"\"\"\n",
    "        return Rat(self.n * other.d + other.n * self.d, self.d * other.d)\n",
    "\n",
    "\n",
    "    def __mul__(self, other):\n",
    "        \"\"\"\n",
    "        >>> rat1 = Rat(1, 2)\n",
    "        >>> rat2 = Rat(3, 4)\n",
    "        >>> mul_rat = rat1 * rat2\n",
    "        >>> mul_rat.n\n",
    "        3\n",
    "        >>> mul_rat.d\n",
    "        8\n",
    "        \"\"\"\n",
    "        return Rat(self.n * other.n, self.d * other.d)\n",
    "\n",
    "\n",
    "    def __truediv__(self, other):\n",
    "        \"\"\"\n",
    "        >>> rat1 = Rat(1, 2)\n",
    "        >>> rat2 = Rat(3, 4)\n",
    "        >>> div_rat = rat1 / rat2\n",
    "        >>> div_rat.n\n",
    "        2\n",
    "        >>> div_rat.d\n",
    "        3\n",
    "        \"\"\"\n",
    "        return Rat(self.n * other.d, self.d * other.n)\n",
    "\n",
    "\n",
    "    def __sub__(self, other):\n",
    "        \"\"\"\n",
    "        >>> rat1 = Rat(1, 2)\n",
    "        >>> rat2 = Rat(3, 4)\n",
    "        >>> sub_rat = rat1 - rat2\n",
    "        >>> sub_rat.n\n",
    "        -1\n",
    "        >>> sub_rat.d\n",
    "        4\n",
    "        \"\"\"\n",
    "        return self + (-other)\n",
    "    \n",
    "    def __eq__(self, other):\n",
    "        \"\"\"\n",
    "        >>> rat1 = Rat(1, 2)\n",
    "        >>> rat2 = Rat(2, 4)\n",
    "        >>> rat3 = Rat(3, 4)\n",
    "        >>> rat1 == rat2\n",
    "        True\n",
    "        >>> rat1 == rat3\n",
    "        False\n",
    "        \"\"\"\n",
    "        if self.n / self.d == other.n /other.d:\n",
    "            return True\n",
    "        return False\n",
    "    \n",
    "    def __lt__(self, other):\n",
    "        \"\"\"\n",
    "        >>> rat1 = Rat(1, 2)\n",
    "        >>> rat2 = Rat(3, 4)\n",
    "        >>> rat3 = Rat(2, 3)\n",
    "        >>> rat1 < rat2\n",
    "        True\n",
    "        >>> rat2 < rat3\n",
    "        False\n",
    "        \"\"\"\n",
    "        if (self.n / self.d) < (other.n / other.d):\n",
    "            return True\n",
    "        return False\n",
    "    \n",
    "    def __le__(self, other):\n",
    "        \"\"\"\n",
    "        >>> rat1 = Rat(1, 2)\n",
    "        >>> rat2 = Rat(3, 4)\n",
    "        >>> rat3 = Rat(2, 3)\n",
    "        >>> rat1 <= rat2\n",
    "        True\n",
    "        >>> rat2 <= rat3\n",
    "        False\n",
    "        \"\"\"\n",
    "        return ((self == other) or (self < other))\n",
    "    \n",
    "    def __gt__(self, other):\n",
    "        \"\"\"\n",
    "        >>> rat1 = Rat(1, 2)\n",
    "        >>> rat2 = Rat(3, 4)\n",
    "        >>> rat3 = Rat(2, 3)\n",
    "        >>> rat1 > rat2\n",
    "        False\n",
    "        >>> rat2 > rat3\n",
    "        True\n",
    "        \"\"\"\n",
    "        if (self.n / self.d) > (other.n / other.d):\n",
    "            return True\n",
    "            \n",
    "        return False\n",
    "    \n",
    "    def __ge__(self, other):\n",
    "        \"\"\"\n",
    "        \"\"\"\n",
    "        return ((self == other) or (self > other))\n",
    "\n",
    "    def __pow__(self, n):   \n",
    "        if n == 0 :   \n",
    "            return Rat(1,1)   \n",
    "        elif n > 0 :   \n",
    "            return Rat(self.n**n,self.d**n)   \n",
    "        else :    \n",
    "            return Rat(self.d**(-n),self.n**(-n))\n",
    "    \n",
    "    def to_dec_string(self, precision):\n",
    "        \"\"\"\n",
    "        >>> Rat(20, 7).to_dec_string(10)\n",
    "        '2.8571428571'\n",
    "\n",
    "        >>> Rat(20, 7).to_dec_string(40)\n",
    "        '2.8571428571428571428571428571428571428571'\n",
    "\n",
    "        >>> Rat(1, 3).to_dec_string(5)\n",
    "        '0.33333'\n",
    "\n",
    "        >>> Rat(-4, 3).to_dec_string(5)\n",
    "        '-1.33333'\n",
    "\n",
    "        >>> Rat(7, 2).to_dec_string(4)\n",
    "        '3.5000'\n",
    "        \"\"\"\n",
    "        abs_numerator = abs(self.n)\n",
    "        denominator = self.d\n",
    "        integer_part = abs_numerator // denominator\n",
    "        decimal_part = abs_numerator % denominator\n",
    "\n",
    "        result = str(integer_part) + \".\"\n",
    "\n",
    "        for _ in range(precision):\n",
    "            decimal_part *= 10\n",
    "            digit = decimal_part // denominator\n",
    "            result += str(int(digit))\n",
    "            decimal_part %= denominator\n",
    "\n",
    "        return result\n"
   ]
  },
  {
   "cell_type": "markdown",
   "metadata": {},
   "source": [
    "### B.1. Approximation de $e$\n",
    "\n",
    "On rappelle la formule du **développement de Taylor-Lagrange**.\n",
    "\n",
    "**Théorème**. Soit $f : \\mathbb{R} \\to \\mathbb{R}$ une fonction de classe $\\mathcal{C}^{n+1}$, où $n\\in \\mathbb{N}$. Soit $a,x \\in \\mathbb{R}$. Alors il existe un réel $c$ entre $a$ et $x$ tel que :\n",
    "$$\n",
    "f(x)=f(a)+f'(a)(x-a)+\\frac{f''(a)}{2!}(x-a)^2+\\cdots +\\frac{f^{(n)}(a)}{n!}(x-a)^n +\\frac{f^{(n+1)}(c)}{(n+1)!}\n",
    "(x-a)^{n+1}.\n",
    "$$"
   ]
  },
  {
   "cell_type": "markdown",
   "metadata": {},
   "source": [
    "* Ecrire le développement de Taylor-Lagrange de la fonction exponentielle à l'ordre $n$ pour $a=0$ et $x=1$."
   ]
  },
  {
   "cell_type": "markdown",
   "metadata": {},
   "source": [
    "<font color=blue>\n",
    "\n",
    "$e^1 = e^0 + e^0(1-0) + \\frac{e^0}{2!}(1-0)^2 + .. + \\frac{e^c}{(n+1)!}(1-0)^{n+1} \\\\\n",
    "    = 1 + 1 +\\frac{1\\times1^2}{2} + ... + \\frac{1\\times1^n}{n!} + \\frac{e^c\\times1^{n+1}}{(n+1)!}$\n",
    "    $e = 2 + \\frac{1}{2} + ... + \\frac{1}{n!} + \\frac{e^c}{(n+1)!}$\n",
    "    \n",
    "</font>"
   ]
  },
  {
   "cell_type": "markdown",
   "metadata": {},
   "source": [
    "* En déduire que, pour tout $n\\in \\mathbb{N}$,\n",
    "\n",
    "$$\n",
    "\\left| e -  \\left( 1+\\frac{1}{1!} +\\frac{1}{2!} + \\cdots + \\frac{1}{n!} \\right) \\right| \\leq \\frac{e}{(n+1)!} \\leq \\frac{3}{(n+1)!}. \\qquad(\\star)\n",
    "$$"
   ]
  },
  {
   "cell_type": "markdown",
   "metadata": {},
   "source": [
    "<font color=blue>\n",
    "    \n",
    "$c \\in [0, 1]$, donc $e^c \\leq e$.\n",
    "\n",
    "$e - 2 - \\frac{1}{2} - ... - \\frac{1}{n!} = \\frac{e^c}{(n+1)!}$. On a donc $e - 2 - \\frac{1}{2} - ... - \\frac{1}{n!} \\leq \\frac{e}{(n+1)!}$\n",
    "\n",
    "$e - 2 - \\frac{1}{2} - ... - \\frac{1}{n!} \\leq \\frac{e}{(n+1)!} \\leq \\frac{3}{(n+1)!}$\n",
    "\n",
    "$|e - (1 + \\frac{1}{1!} + \\frac{1}{2!} + ... + \\frac{1}{n!})| \\leq \\frac{e}{(n+1)!} \\leq \\frac{3}{(n+1)!}$\n",
    "    \n",
    "</font>"
   ]
  },
  {
   "cell_type": "markdown",
   "metadata": {},
   "source": [
    "L'estimation $(\\star)$ montre qu'on peut approcher $e$ par la somme $\\displaystyle \\sum_{k=0}^n \\frac{1}{k!}$. On commet alors une **erreur** inférieure à $\\displaystyle \\frac{3}{(n+1)!}$, erreur qui devient d'autant plus petite que $n$ est grand.\n",
    "\n",
    "Grossièrement, si l'erreur commise par une approximation est $< 10^{-(d+1)}$, cette approximation fournit les $d$ premières décimales correctes de la constante approchée. \n",
    "\n",
    "* A l'aide d'un script Python, déterminer la plus petite valeur de $n$ qui garantit que $\\displaystyle \\frac{3}{(n+1)!} < 10^{-101}$."
   ]
  },
  {
   "cell_type": "code",
   "execution_count": 38,
   "metadata": {},
   "outputs": [
    {
     "name": "stdout",
     "output_type": "stream",
     "text": [
      "71\n"
     ]
    }
   ],
   "source": [
    "import math\n",
    "\n",
    "i = 0\n",
    "nb = (3)/math.factorial(i + 1)\n",
    "while nb > 10**-101:\n",
    "    nb = (3)/math.factorial(i + 1)\n",
    "    i += 1\n",
    "\n",
    "print(i)\n"
   ]
  },
  {
   "cell_type": "markdown",
   "metadata": {},
   "source": [
    "* Ecrire une fonction `approx_e` qui prend en paramètre un entier naturel `n` et renvoie $\\displaystyle \\sum_{k=0}^n \\frac{1}{k!}$ sous forme d'un nombre de type `Rat`. (Indication : quand on a déjà calculé $k !$, il est facile et peu coûteux de calculer $(k+1)!$)"
   ]
  },
  {
   "cell_type": "code",
   "execution_count": 39,
   "metadata": {},
   "outputs": [
    {
     "data": {
      "text/plain": [
       "Rat(31710869445015912176908843526535027555643447320787267779096898248431156738548305814867560678144006224158425966541000436701189187481211772088720561290395499, 11665776930493019085212404857033337561339496033047702683574120486902199999153739451117682997019564785781712240103402969781398151364608000000000000000000000)"
      ]
     },
     "execution_count": 39,
     "metadata": {},
     "output_type": "execute_result"
    }
   ],
   "source": [
    "def approx_e(n):\n",
    "    nb = Rat(0)\n",
    "    for i in range(n):\n",
    "        nb += Rat(1, math.factorial(i))\n",
    "    return nb\n",
    "approx_e(100)"
   ]
  },
  {
   "cell_type": "markdown",
   "metadata": {},
   "source": [
    "* En utilisant `approx_e`, calculer une approximation de $e$ avec une erreur $<10^{-101}$. Afficher les 100 premières décimales de cette approximation."
   ]
  },
  {
   "cell_type": "code",
   "execution_count": 40,
   "metadata": {
    "scrolled": true
   },
   "outputs": [
    {
     "name": "stdout",
     "output_type": "stream",
     "text": [
      "2.7182818284590452353602874713526624977572470936999595749669676277240766303535475945713821785251664274\n"
     ]
    }
   ],
   "source": [
    "print(approx_e(71).to_dec_string(100))\n"
   ]
  },
  {
   "cell_type": "markdown",
   "metadata": {},
   "source": [
    "* Vérifier (en cherchant sur internet) que ces 100 premières décimales sont bien les 100 premières décimales de $e$."
   ]
  },
  {
   "cell_type": "markdown",
   "metadata": {},
   "source": [
    "<font color=blue>\n",
    "    \n",
    "2.7182818284590452353602874713526624977572470936999595749669676277240766303535 = \n",
    "2.7182818284590452353602874713526624977572470936999595749669676277240766303535\n",
    "</font>"
   ]
  },
  {
   "cell_type": "markdown",
   "metadata": {},
   "source": [
    "### B.2. Approximation de $\\arctan (x)$"
   ]
  },
  {
   "cell_type": "markdown",
   "metadata": {},
   "source": [
    "* Rappeler la définition de la fonction $\\arctan$."
   ]
  },
  {
   "cell_type": "markdown",
   "metadata": {},
   "source": [
    "<font color=blue>\n",
    "    \n",
    "$tan(x) = \\frac{sin(x)}{cos(x)}$ et La fonction arctan(x) est l'angle  $\\theta$ tel que $\\frac{-\\Pi}{2} < \\theta < \\frac{\\Pi}{2}$ pour lequel $\\tan(\\theta) = x$\n",
    "    \n",
    "</font>"
   ]
  },
  {
   "cell_type": "markdown",
   "metadata": {},
   "source": [
    "* Montrer que $\\displaystyle \\arctan(1)= \\frac \\pi 4$ (à l'aide de la définition de $\\arctan$)."
   ]
  },
  {
   "cell_type": "markdown",
   "metadata": {},
   "source": [
    "<font color=blue>\n",
    "\n",
    "Comme $tan(\\frac{\\Pi}{4}) = 1$ Alors $arctan(1) = \\frac{\\Pi}{4}$\n",
    "</font>"
   ]
  },
  {
   "cell_type": "markdown",
   "metadata": {},
   "source": [
    "On admet l'estimation suivante pour tout $x\\in[0,1]$ et pour tout $n \\in \\mathbb{N}$ :\n",
    "\n",
    "$$\n",
    "\\left|\\arctan(x) - \\sum_{k=0}^{n-1} (-1)^k \\frac{x^{2k+1}} {2 k + 1} \\right| \\leq \\frac{x^{2n+1}} {2 n + 1}. \\qquad (\\star \\star)\n",
    "$$"
   ]
  },
  {
   "cell_type": "markdown",
   "metadata": {},
   "source": [
    "L'estimation $(\\star \\star)$ montre qu'on peut approcher $\\arctan(x)$ par la somme $\\displaystyle \\sum_{k=0}^{n-1} (-1)^k \\frac{x^{2k+1}} {2 k + 1}$. On commet alors une erreur inférieure à $\\displaystyle \\frac{x^{2n+1}} {2 n + 1}$, erreur qui devient d'autant plus petite que $n$ est grand."
   ]
  },
  {
   "cell_type": "markdown",
   "metadata": {},
   "source": [
    "- Ecrire une fonction `approx_arctan` qui prend en paramètres un nombre `x` de type `Rat` et un entier `n`, et qui renvoie $\\displaystyle \\sum_{k=0}^{n-1} (-1)^k \\frac{x^{2k+1}} {2 k + 1}$ sous forme d'un nombre de type `Rat`."
   ]
  },
  {
   "cell_type": "code",
   "execution_count": 64,
   "metadata": {},
   "outputs": [
    {
     "name": "stdout",
     "output_type": "stream",
     "text": [
      "3.141492653590043\n"
     ]
    }
   ],
   "source": [
    "def approx_arctan(x, n):\n",
    "    d = Rat(0)\n",
    "    for k in range(n):\n",
    "        d += Rat((-1)**k) * x**(2*k+1) /Rat((2*k+1))\n",
    "        \n",
    "    return d\n",
    "\n",
    "print((Rat(4) * approx_arctan(Rat(1), 10000)).to_dec_string(15))"
   ]
  },
  {
   "cell_type": "markdown",
   "metadata": {},
   "source": [
    "### B.3. Approximation de $\\pi$"
   ]
  },
  {
   "cell_type": "markdown",
   "metadata": {},
   "source": [
    "#### Formule de Leibniz\n",
    "\n",
    "Puisque $\\displaystyle \\arctan(1)= \\frac \\pi 4$, la fonction `approx_arctan` permet de calculer une approximation de $\\pi$ (c'est la formule de Leibniz).\n",
    "\n",
    "* Quelle est (au pire), l'erreur commise quand on approche $\\pi$ par `4 * arctan(Rat(1), n)` ?"
   ]
  },
  {
   "cell_type": "markdown",
   "metadata": {},
   "source": [
    "<font color=blue>\n",
    "    \n",
    "La pire erreur est $4 \\times \\frac{x^{2n+1}} {2 n + 1}$\n",
    "</font>"
   ]
  },
  {
   "cell_type": "markdown",
   "metadata": {},
   "source": [
    "* Si l'on veut garantir une erreur $<10^{-101}$, quelle valeur de `n` faut-il prendre ? (Indication : pas besoin de script, un calcul théorique suffit.)"
   ]
  },
  {
   "cell_type": "markdown",
   "metadata": {},
   "source": [
    "<font color=blue>\n",
    "    \n",
    "-- *Écrire la réponse ici.* --\n",
    "    \n",
    "</font>"
   ]
  },
  {
   "cell_type": "markdown",
   "metadata": {},
   "source": [
    "La formule de Leibniz n'est en fait pas très efficace. Il faut calculer beaucoup de termes de la série pour gagner chaque nouvelle décimale (la série converge lentement). C'est pourquoi d'autres formules basées sur le développement en série de $\\arctan$ ont été conçues."
   ]
  },
  {
   "cell_type": "markdown",
   "metadata": {},
   "source": [
    "#### Formule de Machin"
   ]
  },
  {
   "cell_type": "markdown",
   "metadata": {},
   "source": [
    "On rappelle la formule suivante (valide pour tous les réels $x$ et $y$  tels que $\\tan(x), \\tan(y), \\tan(x+y)$ soient bien définis) :\n",
    "\n",
    "$$\n",
    "\\tan(x+y) = \\frac{\\tan(x)+\\tan(y)}{1-\\tan(x)\\tan(y)}.\n",
    "$$"
   ]
  },
  {
   "cell_type": "markdown",
   "metadata": {},
   "source": [
    "* Calculer à la main (sous forme d'un nombre rationnel)\n",
    "$$ A = \\tan\\left(2 \\arctan\\left(\\frac{1}{5}\\right)\\right)$$\n",
    "puis\n",
    "$$B = \\tan\\left(4 \\arctan\\left(\\frac{1}{5}\\right)\\right).$$ \n",
    "\n",
    "* Calculer à la main (sous forme d'un nombre rationnel)\n",
    "\n",
    "$$C = \\tan\\left(4 \\arctan\\left(\\frac 1 5 \\right)− \\frac \\pi 4\\right)$$ \n",
    "\n",
    "* En deduire la formule de Machin :\n",
    "\n",
    "$$\n",
    "\\frac{\\pi}{4} = 4\\arctan\\left(\\frac 1 5\\right) - \\arctan\\left(\\frac 1 {239}\\right).\n",
    "$$"
   ]
  },
  {
   "cell_type": "markdown",
   "metadata": {},
   "source": [
    "<font color=blue>\n",
    "    \n",
    "Pour $X$, nous obtenons :\n",
    "\n",
    "$\n",
    "X = \\tan(2\\arctan(\\frac{1}{5})) \\\\\n",
    "= \\tan(\\arctan(\\frac{1}{5}) + \\arctan(\\frac{1}{5})) \\\\\n",
    "= \\frac{2\\tan(\\arctan(\\frac{1}{5}))}{1-\\tan(\\arctan(\\frac{1}{5}))}\\\\\n",
    "= \\frac{\\frac{2}{5}}{1 - (\\frac{1}{5})^2}\\\\\n",
    "= \\frac{5}{12}\n",
    "$\n",
    "\n",
    "Pour $Y$, nous trouvons :\n",
    "\n",
    "$\n",
    "Y = \\tan(4\\arctan(\\frac{1}{5})) \\\\\n",
    "= \\tan(2\\arctan(\\frac{1}{5}) + 2\\arctan(\\frac{1}{5})) \\\\\n",
    "= \\frac{2\\tan(2\\arctan(\\frac{1}{5}))}{1-\\tan(2\\arctan(\\frac{1}{5}))^2} \\\\ \n",
    "= \\frac{\\frac{10}{12}}{1 - \\frac{25}{12}} \\\\\n",
    "= \\frac{1}{5}\n",
    "$\n",
    "\n",
    "Pour $Z$, nous calculons :\n",
    "\n",
    "$\n",
    "Z = \\tan(4\\arctan(\\frac 1 5) - \\frac \\pi 4) \\\\\n",
    "= \\frac{\\tan(4\\arctan(\\frac 1 5)) - \\tan(\\frac \\pi 4)}{(1 + \\tan(4\\arctan(\\frac 1 5)) \\times \\tan(\\frac \\pi 4)} \\\\\n",
    "= \\frac{Y - 1}{1 + Y} \\\\\n",
    "= \\frac{119}{(119*239)} \\\\\n",
    "= \\frac{1}{239}\n",
    "$\n",
    "\n",
    "Par conséquent, $\\frac{\\pi}{4} = 4\\arctan\\left(\\frac 1 5\\right) - \\arctan\\left(\\frac 1 {239}\\right)$ puisque $\\arctan$ est l'inverse de $\\tan$.\n",
    "\n",
    "    \n",
    "</font>"
   ]
  },
  {
   "cell_type": "markdown",
   "metadata": {},
   "source": [
    " * A l'aide d'un script Python, déterminer la plus petite valeur de `n` qui garantit que l'erreur commise par `approx_arctan(Rat(1, 5), n)` soit $<10^{-103}$."
   ]
  },
  {
   "cell_type": "code",
   "execution_count": null,
   "metadata": {},
   "outputs": [],
   "source": [
    "    "
   ]
  },
  {
   "cell_type": "markdown",
   "metadata": {},
   "source": [
    " * A l'aide d'un script Python, déterminer la plus petite valeur de `n` qui garantit que l'erreur commise par `approx_arctan(Rat(1, 239), n)` soit $<10^{-103}$."
   ]
  },
  {
   "cell_type": "code",
   "execution_count": null,
   "metadata": {},
   "outputs": [],
   "source": []
  },
  {
   "cell_type": "markdown",
   "metadata": {},
   "source": [
    "* En utilisant `approx_arctan(Rat(1, 5), n)` et `approx_arctan(Rat(1, 239), n)` avec les valeurs de `n` précédemment déterminées, calculer une approximation de $\\pi$. Afficher les 100 premières décimales de cette approximation."
   ]
  },
  {
   "cell_type": "code",
   "execution_count": 50,
   "metadata": {
    "scrolled": true
   },
   "outputs": [
    {
     "data": {
      "text/plain": [
       "'3.1415926535897932384626433832795028841971693993751058209749445923078164062862089986280348253421170679'"
      ]
     },
     "execution_count": 50,
     "metadata": {},
     "output_type": "execute_result"
    }
   ],
   "source": [
    "(Rat(16) * approx_arctan(Rat(1,5),72) - Rat(4) * approx_arctan(Rat(1,239),21)).to_dec_string(100)"
   ]
  },
  {
   "cell_type": "markdown",
   "metadata": {},
   "source": [
    "* Vérifier (en cherchant sur internet) que ces 100 premières décimales sont bien les 100 premières décimales de $\\pi$."
   ]
  },
  {
   "cell_type": "markdown",
   "metadata": {},
   "source": [
    "<font color=blue>\n",
    "    \n",
    "C'est bon    \n",
    "</font>"
   ]
  },
  {
   "cell_type": "markdown",
   "metadata": {},
   "source": [
    "* Essayer maintenant d'obtenir les 1000 premières décimales de $\\pi$."
   ]
  },
  {
   "cell_type": "code",
   "execution_count": 55,
   "metadata": {},
   "outputs": [
    {
     "name": "stdout",
     "output_type": "stream",
     "text": [
      "3.1415926535897932384626433832795028841971693993751058209749445923078164062862089986280348253421170679816247851393450689844036280179270601017998721680672618874014046603356758131167937607533510160965917103064457623365302745025718280348465835186092727013380903091443682366026293116257628470319458939522186624599271081755539368023755491704787170893298510684078507483363924708085926432772188202797967739795375460419691561938141050560028885689776187594105286760908911434515015786922368488164324594331333842101848509140397727740074397052749281632189422395325758478773733717056805392502721710284435120876565730202558912769518503918664459724003054117107475787013743110057909727790561264149517881796417394174065498544591832692822094535541604844488705093556269686669601963157386871458742870966993832026270934276370308341191598634084081160078010163767065142756121064491870961610947662689798114012987943480783285606524354877735038039728999598993828302200003033565253648756307689205630194786818827781807141109625127\n"
     ]
    }
   ],
   "source": [
    "print(((Rat(16) * approx_arctan(Rat(1,5),72) - Rat(4) * approx_arctan(Rat(1,239),21)).to_dec_string(1000)))"
   ]
  },
  {
   "cell_type": "markdown",
   "metadata": {},
   "source": [
    "* Combien de décimales de $\\pi$ sont connues actuellement ?"
   ]
  },
  {
   "cell_type": "markdown",
   "metadata": {},
   "source": [
    "<font color=blue>\n",
    "    \n",
    "62 800 milliards de decimales après la virgule nous connaissons actuellement    \n",
    "</font>"
   ]
  },
  {
   "cell_type": "markdown",
   "metadata": {},
   "source": [
    "## C. Calcul des racines carrées"
   ]
  },
  {
   "cell_type": "markdown",
   "metadata": {},
   "source": [
    "Pour calculer la racine carrée d'un nombre, nous allons utiliser la **méthode de Newton**. Il s'agit d'une **méthode itérative** d'approximation des solutions d'une équation du type $f(x)=0$, où $f$ est une fonction réelle de classe $C^1$. Elle consiste, en partant d'une valeur $x_0$, à calculer les termes de la suite récurrente définie par la relation\n",
    "\\begin{equation*}\n",
    "\\tag{$\\star$}\n",
    "x_{k+1}=x_{k}-\\frac{f(x_{k})}{f'(x_{k})}.\n",
    "\\end{equation*}\n",
    "\n",
    "Si la valeur $x_0$ est bien choisie, la suite $(x_k)_{k\\in\\mathbb{N}}$ converge vers une solution de l'équation $f(x)=0$. En pratique, on arrête le calcul de la suite dès que l'écart entre $x_k$ et $x_{k+1}$ est devenu suffisamment faible.\n",
    "\n",
    "Soit $a$ est un réel strictement positif. La quantité $\\sqrt{a}$ est solution de l'équation $x^2-a = 0$. Pour cette équation, la relation de récurrence de la méthode de Newton s'écrit :\n",
    "\\begin{equation*}\n",
    "\\tag{$\\star \\star$}\n",
    "x_{k+1} = \\frac{1}{2}\\left(x_{k}+\\frac{a}{x_{k}}\\right).\n",
    "\\end{equation*}"
   ]
  },
  {
   "cell_type": "markdown",
   "metadata": {},
   "source": [
    "* Vérifier que la relation ($\\star\\star$) est bien la relation de récurrence de la méthode de Newton pour l'équation $x^2-a = 0$."
   ]
  },
  {
   "cell_type": "markdown",
   "metadata": {},
   "source": [
    "<font color=blue>\n",
    "    \n",
    "-- *Écrire la réponse ici.* --\n",
    "    \n",
    "</font>"
   ]
  },
  {
   "cell_type": "markdown",
   "metadata": {},
   "source": [
    "### C.1. Implémentation de la méthode"
   ]
  },
  {
   "cell_type": "markdown",
   "metadata": {},
   "source": [
    "Contrairement à la partie précédente, nous allons ici utiliser des `float`. Nous cherchons pas à obtenir une précision supérieure à celle fournie par les `float`.\n",
    "\n",
    "* Ecrire une fonction `ceilsqrt` qui calcule le plus petit entier naturel supérieur à la racine carrée d'un nombre donné (autrement dit, le plus petit entier naturel dont le carré est supérieur à un nombre donné). Cette fonction ne devra pas utiliser la fonction `sqrt` du module `math`."
   ]
  },
  {
   "cell_type": "code",
   "execution_count": 58,
   "metadata": {},
   "outputs": [
    {
     "data": {
      "text/plain": [
       "10"
      ]
     },
     "execution_count": 58,
     "metadata": {},
     "output_type": "execute_result"
    }
   ],
   "source": [
    "def ceilsqrt(n):\n",
    "    for i in range(n-1, -1, -1):\n",
    "        if i**2 <= n:\n",
    "            return i\n",
    "ceilsqrt(100)"
   ]
  },
  {
   "cell_type": "markdown",
   "metadata": {},
   "source": [
    "- Ecrire une fonction `mysqrt` qui calcule la racine carrée d'un nombre flottant positif `x` en utilisant la méthode de Newton. On choisira comme valeur initiale `ceilsqrt(x)`. On arrêtera les itérations dès qu'on dépassera 100 itérations ou dès que l'erreur relative entre les valeurs de deux itérations successives sera inférieure à $2 \\times 10^{-16}$ (autrement dit, dès que $|x_{k+1}-x_k|<2 \\times 10^{-16} |x_{k+1}|$)."
   ]
  },
  {
   "cell_type": "code",
   "execution_count": 59,
   "metadata": {},
   "outputs": [],
   "source": [
    "def mysqrt(nb):\n",
    "    x = ceilsqrt(nb)\n",
    "    n_iter = 0\n",
    "    while n_iter != 100:\n",
    "        y = 0.5 * (x + nb/x)\n",
    "        if abs(y - x) < 2e-16 * abs(y):\n",
    "            break\n",
    "        n_iter += 1\n",
    "        x = y\n",
    "    return y"
   ]
  },
  {
   "cell_type": "markdown",
   "metadata": {},
   "source": [
    "- Calculer l'erreur relative entre la valeur calculée par cette fonction `mysqrt` et la fonction `sqrt` du module `math` pour $\\sqrt{5},\\sqrt{10},\\ldots,\\sqrt{100}$."
   ]
  },
  {
   "cell_type": "code",
   "execution_count": 62,
   "metadata": {
    "scrolled": true
   },
   "outputs": [
    {
     "name": "stdout",
     "output_type": "stream",
     "text": [
      "erreur relative : 2.220446049250313e-16\n",
      "erreur relative : 0.0\n",
      "erreur relative : 4.440892098500626e-16\n",
      "erreur relative : 0.0\n"
     ]
    }
   ],
   "source": [
    "from math import sqrt\n",
    "\n",
    "nombres = [2, 5, 10, 100]\n",
    "for n in nombres:\n",
    "    x1, x2 = mysqrt(n), sqrt(n)\n",
    "    print(\"erreur relative :\", x2-x1)"
   ]
  },
  {
   "cell_type": "markdown",
   "metadata": {},
   "source": [
    "- Ecrire une variante de la fonction `mysqrt` qui affiche la valeur calculée à chaque itération. Tester cette fonction sur le calcul de $\\sqrt{2}$. Combien de décimales correctes (par rapport à la valeur exacte de $\\sqrt{2}$) possède la valeur approchée fournie par la méthode à chaque itération ? Comment évolue ce nombre de décimales correctes entre deux itérations ?"
   ]
  },
  {
   "cell_type": "code",
   "execution_count": null,
   "metadata": {},
   "outputs": [],
   "source": []
  },
  {
   "cell_type": "markdown",
   "metadata": {},
   "source": [
    "<font color=blue>\n",
    "    \n",
    "-- *Écrire la réponse ici.* --\n",
    "    \n",
    "</font>"
   ]
  },
  {
   "cell_type": "markdown",
   "metadata": {},
   "source": [
    "### C.2. Extension au calcul des racines n-ièmes"
   ]
  },
  {
   "cell_type": "markdown",
   "metadata": {},
   "source": [
    "- En s'inspirant de ce qui a été fait pour le calcul de la racine carrée, écrire une fonction `nthroot` qui calcule la racine n-ième en utilisant la méthode de Newton."
   ]
  },
  {
   "cell_type": "code",
   "execution_count": null,
   "metadata": {},
   "outputs": [],
   "source": []
  },
  {
   "cell_type": "markdown",
   "metadata": {},
   "source": [
    "- Calculer l'erreur relative entre la valeur calculée par cette fonction `nthroot` et celle calculée à l'aide de la fonction `pow` du module `math` pour $\\sqrt[3]{5},\\sqrt[3]{10},\\ldots,\\sqrt[3]{100}$."
   ]
  },
  {
   "cell_type": "code",
   "execution_count": null,
   "metadata": {
    "scrolled": true
   },
   "outputs": [],
   "source": []
  },
  {
   "cell_type": "markdown",
   "metadata": {},
   "source": [
    "### C.3. Analyse théorique (facultative)"
   ]
  },
  {
   "cell_type": "markdown",
   "metadata": {},
   "source": [
    "Soit $a>0$. Soit $x_0 \\ge \\sqrt{a}$. On note $(x_k)_{k\\in\\mathbb{N}}$ la suite définie par la relation ($\\star\\star$) en partant de $x_0$.\n",
    "\n",
    "* Justifier brièvement que les termes de la suite $(x_k)_{k\\in\\mathbb{N}}$ sont strictement positifs."
   ]
  },
  {
   "cell_type": "markdown",
   "metadata": {},
   "source": [
    "<font color=blue>\n",
    "    \n",
    "-- *Écrire la réponse ici.* --\n",
    "    \n",
    "</font>"
   ]
  },
  {
   "cell_type": "markdown",
   "metadata": {},
   "source": [
    "* Exprimer $x_{k+1} - \\sqrt{a}$ en fonction de $\\left(x_{k} - \\sqrt{a}\\right)^2$ pour tout $k\\in \\mathbb{N}$."
   ]
  },
  {
   "cell_type": "markdown",
   "metadata": {},
   "source": [
    "<font color=blue>\n",
    "    \n",
    "-- *Écrire la réponse ici.* --\n",
    "    \n",
    "</font>"
   ]
  },
  {
   "cell_type": "markdown",
   "metadata": {},
   "source": [
    "* Montrer que $x_k \\geq \\sqrt{a}$ pour tout $k\\in \\mathbb{N}$.\n",
    "* Montrer que la suite $(x_k)_{k\\in\\mathbb{N}}$ est décroissante.\n",
    "* En déduire qu'elle converge vers $\\sqrt{a}$."
   ]
  },
  {
   "cell_type": "markdown",
   "metadata": {},
   "source": [
    "<font color=blue>\n",
    "    \n",
    "-- *Écrire la réponse ici.* --\n",
    "    \n",
    "</font>"
   ]
  },
  {
   "cell_type": "markdown",
   "metadata": {},
   "source": [
    " * Soit $k\\in \\mathbb{N}^*$. On suppose que $|x_{k}-\\sqrt{a}|\\leq 10^{-n}$, où $n \\in \\mathbb{N}^*$. Montrer que \n",
    " $$ |x_{k+1}-\\sqrt{a}| \\leq \\frac{10^{-2n}}{2 \\sqrt{a}}.$$"
   ]
  },
  {
   "cell_type": "markdown",
   "metadata": {},
   "source": [
    "<font color=blue>\n",
    "    \n",
    "-- *Écrire la réponse ici.* --\n",
    "    \n",
    "</font>"
   ]
  },
  {
   "cell_type": "code",
   "execution_count": null,
   "metadata": {},
   "outputs": [],
   "source": []
  }
 ],
 "metadata": {
  "kernelspec": {
   "display_name": "Python 3 (ipykernel)",
   "language": "python",
   "name": "python3"
  },
  "language_info": {
   "codemirror_mode": {
    "name": "ipython",
    "version": 3
   },
   "file_extension": ".py",
   "mimetype": "text/x-python",
   "name": "python",
   "nbconvert_exporter": "python",
   "pygments_lexer": "ipython3",
   "version": "3.11.6"
  }
 },
 "nbformat": 4,
 "nbformat_minor": 1
}
