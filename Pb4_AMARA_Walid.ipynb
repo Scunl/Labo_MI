{
 "cells": [
  {
   "cell_type": "markdown",
   "metadata": {},
   "source": [
    "# Problème 4 : Générateurs de nombres pseudo-aléatoires"
   ]
  },
  {
   "cell_type": "markdown",
   "metadata": {},
   "source": [
    "La façon la plus courante de simuler des comportements aléatoires dans un programme informatique est d'utiliser un **générateur de nombres pseudo-aléatoires**. \n",
    "\n",
    "Comme son nom l'indique, un générateur de nombres pseudo-aléatoires ne produit pas des nombres réellement aléatoires. Il produit, par une procédure déterministe, une suite de nombres qui *ressemble* à une suite de nombres tirés aléatoirement (selon une loi uniforme sur une certaine plage de nombres).\n",
    "\n",
    "A partir d'un générateur de nombres pseudo-aléatoires, il est ensuite possible de construire d'autres fonctions aléatoires : des fonctions tirant des nombres aléatoirement selon d'autres loi, des fonctions tirant des éléments aléatoirement dans une liste, des fonctions mélangeant aléatoirement une liste, etc.\n",
    "\n",
    "Dans ce problème, nous allons programmer et étudier un certain type de générateurs : les générateurs à congruence linéaire. Nous utiliserons ensuite ce type de générateurs dans différentes applications.\n",
    "\n",
    "Pour plus d'informations sur les générateurs pseudo-aléatoires, nous renvoyons au document *Simulation aléatoire* sur la page du cours."
   ]
  },
  {
   "cell_type": "markdown",
   "metadata": {},
   "source": [
    "## A. Générateurs à congruence linéaire\n",
    "\n",
    "Un générateur produit les nombres pseudo-aléatoires de manière séquentielle. Il garde toujours en mémoire le dernier nombre produit (ou les derniers nombres produits). Quand un nouveau nombre est demandé par l'utilisateur, le générateur applique une certaine transformation au dernier nombre produit (ou aux derniers nombres produits) et renvoie le résultat comme nouveau nombre.\n",
    "\n",
    "Pour initialiser le processus de génération des nombres, un premier nombre doit être fourni au générateur. Ce nombre initial est appelée **graine** (**seed** en anglais). En prenant la même graine à chaque utilisation, on obtiendrait toujours la même suite de nombres, ce qui serait bien peu aléatoire ! En pratique, la graine est donc créée automatiquement à partir de données aléatoires du système (le temps en millisecondes écoulé depuis une date de référence par exemple). Elle peut néanmoins être fixée par l'utilisateur. Pour faire des tests ou du débogage, il est en effet utile de pouvoir générer plusieurs fois la même suite de nombres pseudo-aléatoires.\n",
    "\n",
    "Dans le cas des **générateurs à congruence linéaire**, seul le dernier nombre produit est gardé en mémoire. La transformation appliquée au dernier nombre pour en produire un nouveau est de la forme :\n",
    "\n",
    "\\begin{equation}\n",
    "\\tag{$\\star\\star$}\n",
    "\\varphi : x \\mapsto ax+c \\ \\operatorname{mod} m\n",
    "\\end{equation}\n",
    "\n",
    "où $m \\in \\mathbb{N}^*$, $a\\in\\{1,\\ldots,m-1\\}$, $c\\in\\{0,\\ldots,m-1\\}$ et $\\operatorname{mod} m$ désigne le reste modulo $m$.\n",
    "\n",
    "Les nombres $a$, $c$, $m$ sont appelés les **paramètres** du générateur.\n",
    "\n",
    "En termes mathématiques, les nombres pseudo-aléatoires produits par un générateur à congruence linéaire forment une suite récurrente $(x_n)_{n\\in \\mathbb{N}}$ définie par :\n",
    "\n",
    "\\begin{equation}\n",
    "\\tag{$\\star$}\n",
    "\\begin{cases}\n",
    "x_0=d\\\\\n",
    "x_{n+1}=\\varphi(x_n)\n",
    "\\end{cases}\n",
    "\\end{equation}\n",
    "\n",
    "où $d$ est la graine.\n",
    "\n",
    "Un générateur à congruence linéaire de paramètres $a$, $c$, $m$ produit des nombres pseudo-aléatoires dans l'ensemble $\\{0,\\ldots,m-1\\}$. Ces nombres pseudo-aléatoires sont censés ressembler à des nombres tirés aléatoirement dans $\\{0,\\ldots,m-1\\}$ selon une loi uniforme."
   ]
  },
  {
   "cell_type": "markdown",
   "metadata": {},
   "source": [
    "### A.1. Classe `GCL`\n",
    "\n",
    "Nous allons d'abord écrire une classe `GCL` pour créer et utiliser des générateurs à congruence linéaire. Un générateur à congruence linéaire sera représenté par les attributs suivants :\n",
    "\n",
    " `a`, `c` et `m` : les paramètres du générateur ;\n",
    " \n",
    " `value` : la valeur *courante* du générateur (c'est-à-dire la dernière valeur pseudo-aléatoire calculée).\n",
    " \n",
    "- Créer une classe `GCL` contenant :\n",
    "    * la méthode de construction `__init__` ;\n",
    "    * une méthode `random` ;\n",
    "    * une méthode `seed`.\n",
    "\n",
    "La méthode `__init__` de cette classe prendra en paramètres les paramètres du générateur. Par défaut, la valeur initiale (la graine) du générateur sera produite en utilisant la fonction `time` du module `time`.\n",
    "\n",
    "La méthode `random` appliquera la fontion $\\varphi$ à la valeur courante et renverra cette nouvelle valeur.\n",
    "\n",
    "La méthode `seed` prendra en paramètre une valeur entière et réinitialisera le générateur avec cette valeur entière comme graine (autrement dit, elle remplacera la valeur courante par la valeur fournie).\n",
    "        \n",
    "Avec cette classe, voilà par exemple comment créer un générateur de paramètres $(5,1,16)$ et afficher les 2 premiers nombres pseudo-aléatoires produits par ce générateur\n",
    "```python\n",
    "\n",
    "rd = GCL(5, 1, 16)\n",
    "print(rd.random())\n",
    "print(rd.random())\n",
    "```"
   ]
  },
  {
   "cell_type": "code",
   "execution_count": 3,
   "metadata": {},
   "outputs": [
    {
     "name": "stdout",
     "output_type": "stream",
     "text": [
      "1\n"
     ]
    }
   ],
   "source": [
    "import time\n",
    "\n",
    "\n",
    "class GCL:\n",
    "    def __init__(self, a, c, m) -> None:\n",
    "        self.a = a\n",
    "        self.c = c\n",
    "        self.m = m\n",
    "        self.value = int(time.time_ns()) % self.m\n",
    "        \n",
    "        \n",
    "    def random(self):\n",
    "        self.value = (self.a * self.value + self.c) % self.m\n",
    "        return self.value\n",
    "        \n",
    "    def seed(self, n):\n",
    "        self.value = n\n",
    "        \n",
    "\n",
    "rd = GCL(5, 1, 16)\n",
    "print(rd.random())"
   ]
  },
  {
   "cell_type": "markdown",
   "metadata": {},
   "source": [
    "- Créer un générateur `rd` de paramètres $(5,1,16)$ et afficher les 20 premiers nombres pseudo-aléatoires produits par ce générateur."
   ]
  },
  {
   "cell_type": "code",
   "execution_count": 4,
   "metadata": {},
   "outputs": [
    {
     "name": "stdout",
     "output_type": "stream",
     "text": [
      "1 = 5\n",
      "2 = 10\n",
      "3 = 3\n",
      "4 = 0\n",
      "5 = 1\n",
      "6 = 6\n",
      "7 = 15\n",
      "8 = 12\n",
      "9 = 13\n",
      "10 = 2\n",
      "11 = 11\n",
      "12 = 8\n",
      "13 = 9\n",
      "14 = 14\n",
      "15 = 7\n",
      "16 = 4\n",
      "17 = 5\n",
      "18 = 10\n",
      "19 = 3\n",
      "20 = 0\n"
     ]
    }
   ],
   "source": [
    "rd = GCL(5, 1, 16)\n",
    "\n",
    "for i in range(20):\n",
    "    print(i+1, \"=\", rd.random())"
   ]
  },
  {
   "cell_type": "markdown",
   "metadata": {},
   "source": [
    "- Fixer la graine du générateur à 10. Afficher les 20 premiers nombres pseudo-aléatoires produits par ce générateur avec cette graine."
   ]
  },
  {
   "cell_type": "code",
   "execution_count": 5,
   "metadata": {},
   "outputs": [
    {
     "name": "stdout",
     "output_type": "stream",
     "text": [
      "1 = 3\n",
      "2 = 0\n",
      "3 = 1\n",
      "4 = 6\n",
      "5 = 15\n",
      "6 = 12\n",
      "7 = 13\n",
      "8 = 2\n",
      "9 = 11\n",
      "10 = 8\n",
      "11 = 9\n",
      "12 = 14\n",
      "13 = 7\n",
      "14 = 4\n",
      "15 = 5\n",
      "16 = 10\n",
      "17 = 3\n",
      "18 = 0\n",
      "19 = 1\n",
      "20 = 6\n"
     ]
    }
   ],
   "source": [
    "rd = GCL(5, 1, 16)\n",
    "rd.seed(10)\n",
    "for i in range(20):\n",
    "    print(i+1, \"=\", rd.random())"
   ]
  },
  {
   "cell_type": "markdown",
   "metadata": {},
   "source": [
    "### A.2. Période des suites générées"
   ]
  },
  {
   "cell_type": "markdown",
   "metadata": {},
   "source": [
    "* Rappeler la définition d'une suite **périodique** et la définition de la **période** d'une suite périodique."
   ]
  },
  {
   "cell_type": "markdown",
   "metadata": {},
   "source": [
    "<font color=blue>\n",
    "\n",
    "$$\\exists r \\in \\mathbb{N} \\, \\forall n \\in \\mathbb{N} : \\text{Une suite périodique suit la propriété } x_{n+r} = x_n$$\n",
    "\n",
    "\n",
    "    \n",
    "</font>"
   ]
  },
  {
   "cell_type": "markdown",
   "metadata": {},
   "source": [
    "* Montrer qu'une suite récurrente qui prend la même valeur à deux rangs distincts $n_1$ et $n_2$ est nécessairement périodique (à partir du rang $n_1$). Que peut-on dire de sa période ?"
   ]
  },
  {
   "cell_type": "markdown",
   "metadata": {},
   "source": [
    "<font color=blue>\n",
    "    \n",
    "Nous allons démontrer que la suite se répète à partir du rang \\(n_1\\).\n",
    "\n",
    "Soit \\(x_n\\) une suite récurrente qui prend la même valeur à deux rangs distincts \\(n_1\\) et \\(n_2\\), c'est-à-dire \\(x_{n_1} = x_{n_2}\\). Nous souhaitons montrer que la suite est périodique à partir du rang \\(n_1\\).\n",
    "\n",
    "Soit \\(r = n_2 - n_1\\). Regardons les termes de la suite à partir du rang \\(n_1\\) :\n",
    "\n",
    "\\[\n",
    "\\begin{align*}\n",
    "x_{n_1} &= x_{n_2}  \\\\\n",
    "x_{n_1 + r} &= x_{n_2 + r}  \\\\\n",
    "x_{n_1 + 2r} &= x_{n_2 + 2r}  \\\\\n",
    "&\\vdots\n",
    "\\end{align*}\n",
    "\\]\n",
    "\n",
    "Ont peut voir que la suite \\(x_n\\) prend la même valeur à chaque rang \\(n_1 + kr\\) pour tout \\(k = 0, 1, 2, \\ldots\\). Par conséquent, la suite est périodique à partir du rang \\(n_1\\) avec une période égale à \\(r\\), où \\(r = n_2 - n_1\\).\n",
    "\n",
    "Finalement si une suite récurrente prend la même valeur à deux rangs distincts \\(n_1\\) et \\(n_2\\), alors elle est nécessairement périodique à partir du rang \\(n_1\\), avec une période \\(r\\) telle que \\(r = n_2 - n_1\\).\n",
    "\n",
    "</font>"
   ]
  },
  {
   "cell_type": "markdown",
   "metadata": {},
   "source": [
    "Le **principe des tiroirs** énonce que si l'on range $n$ chaussettes dans $m$ tiroirs (avec $n>m$), alors il y au moins un tiroir contenant plus d'une chaussette.\n",
    "\n",
    "Par exemple, si l'on considère $n$ nombres ne pouvant prendre que $m$ valeurs différentes (avec $n>m$), alors, d'après le principe des tiroirs, il y a nécessairement deux nombres ayant la même valeur. "
   ]
  },
  {
   "cell_type": "markdown",
   "metadata": {},
   "source": [
    "* Soit $(x_n)_{n\\in\\mathbb{N}}$ une suite du type $(\\star)$. En appliquant le principe de tiroirs aux nombres $x_0, x_1, \\ldots, x_m$, montrer que la suite $(x_n)_{n\\in\\mathbb{N}}$ est périodique (à partir d'un certain rang). Que peut-on dire de sa période ?"
   ]
  },
  {
   "cell_type": "markdown",
   "metadata": {},
   "source": [
    "<font color=blue>\n",
    "\n",
    "il existe deux indices distincts $n_i$ et $n_j$ tels que $x_{n_i} = x_{n_j}$, où $n_i < n_j$ <br>\n",
    "En appliquant le principe des tiroirs aux valeurs de la suite $(x_n){n\\in\\mathbb{N}}$, on montre que la suite est périodique à partir du rang $n_i$, avec une période égale à $n_j - n_i$ où $x{n_i} = x_{n_j}$.\n",
    "    \n",
    "</font>"
   ]
  },
  {
   "cell_type": "markdown",
   "metadata": {},
   "source": [
    "Il est préférable d'utiliser un générateur qui produit des suites de périodes les plus longues possibles. On dit qu'un générateur de paramètres $(a,c,m)$ est de **période maximale** s'il produit des suites de période $m$ pour toutes les graines.\n",
    "\n",
    "On peut démontrer que si un générateur produit une suite de période $m$ pour une graine particulière, alors il produit des suites de période $m$ pour toutes les graines."
   ]
  },
  {
   "cell_type": "markdown",
   "metadata": {},
   "source": [
    "- Pour chacun des paramètres ci-dessous, déterminer (expérimentalement) si le générateur à congruence linéaire associé est de période maximale.\n",
    "    - $(5, 4, 8)$\n",
    "    - $(5, 5, 8)$\n",
    "    - $(5, 1, 16)$\n",
    "    - $(7, 1, 16)$"
   ]
  },
  {
   "cell_type": "code",
   "execution_count": 6,
   "metadata": {},
   "outputs": [
    {
     "name": "stdout",
     "output_type": "stream",
     "text": [
      "0 = 4\n",
      "1 = 1\n",
      "2 = 6\n",
      "3 = 3\n",
      "4 = 0\n",
      "5 = 5\n",
      "6 = 2\n",
      "7 = 7\n",
      "8 = 4\n",
      "9 = 1\n",
      "10 = 6\n",
      "11 = 3\n",
      "12 = 0\n",
      "13 = 5\n",
      "14 = 2\n",
      "15 = 7\n",
      "16 = 4\n",
      "17 = 1\n",
      "18 = 6\n",
      "19 = 3\n"
     ]
    }
   ],
   "source": [
    "import time\n",
    "\n",
    "\n",
    "class GCL:\n",
    "    def __init__(self, a, c, m) -> None:\n",
    "        self.a = a\n",
    "        self.c = c\n",
    "        self.m = m\n",
    "        self.value = int(time.time_ns()) % self.m\n",
    "        \n",
    "        \n",
    "    def random(self):\n",
    "        self.value = (self.a * self.value + self.c) % self.m\n",
    "        return self.value\n",
    "        \n",
    "    def seed(self, n):\n",
    "        self.value = n\n",
    "        \n",
    "\n",
    "rd1 = GCL(5, 4, 8)\n",
    "rd2 = GCL(5, 5, 8)\n",
    "rd3 = GCL(5,1,16)\n",
    "rd4 = GCL(7,1,16)\n",
    "\n",
    "for i in range(20):\n",
    "    rd1.seed(i)\n",
    "    print(i, '=', rd1.random())"
   ]
  },
  {
   "cell_type": "markdown",
   "metadata": {},
   "source": []
  },
  {
   "cell_type": "markdown",
   "metadata": {},
   "source": [
    "On dispose du théorème suivant pour déterminer si un générateur est de période maximale.\n",
    "\n",
    "**Théorème.** Dans le cas où $m=2^e$, avec $e$ un paramètre donné, un générateur est de période maximale si et seulement si $c$ est impair et $a \\equiv 1 \\pmod 4$. \n",
    "\n",
    "* Vérifier qu'en appliquant ce théorème aux 4 générateurs précédents, on retrouve les résultats déterminés expérimentalement."
   ]
  },
  {
   "cell_type": "markdown",
   "metadata": {},
   "source": [
    "<font color=blue>\n",
    "    \n",
    "Le théorème stipule que, dans le cas où m est une puissance de 2 (c'est-à-dire m = 2^e), un générateur est de période maximale ssi les conditions suivantes sont remplies :\n",
    "\n",
    "- c est impair.\n",
    "- a ≡ 1 (mod 4).\n",
    "\n",
    "Générateur (a, c, m) = (5, 4, 8):\n",
    "\n",
    "Condition 1 : c = 4 n'est pas impair.\n",
    "Condition 2 : a = 5 ≡ 1 (mod 4) est satisfaite.\n",
    "En conséquence, ce générateur ne peut pas être de période max.\n",
    "\n",
    "Générateur (a, c, m) = (5, 5, 8):\n",
    "\n",
    "Condition 1 : c = 5 est impair.\n",
    "Condition 2 : a = 5 ≡ 1 (mod 4) est satisfaite.\n",
    "Il est bien de periode max\n",
    "\n",
    "Générateur (a, c, m) = (5, 1, 16):\n",
    "\n",
    "Condition 1 : c = 1 est impair.\n",
    "Condition 2 : a = 5 ≡ 1 (mod 4) est satisfaite.\n",
    "Il est bien de periode max\n",
    "\n",
    "Générateur (a, c, m) = (7, 1, 16):\n",
    "\n",
    "Condition 1 : c = 1 est impair.\n",
    "Condition 2 : a = 7 ≡ 3 (mod 4) n'est pas équivalent à 1 (mod 4).\n",
    "Pas de periode max\n",
    "    \n",
    "</font>"
   ]
  },
  {
   "cell_type": "markdown",
   "metadata": {},
   "source": [
    "### A.3. Tests de quelques générateurs à congruence linéaire"
   ]
  },
  {
   "cell_type": "markdown",
   "metadata": {},
   "source": [
    "- Créer les générateurs à congruence linéaire de paramètres suivants :\n",
    "    - `rd1` : $(9,5,2^{31})$\n",
    "    - `rd2` : $(11,5,2^{31})$\n",
    "    - `rd3` : $(1664523,1013904223,2^{31})$\n",
    "    - `rd4` : $(1664525,1013904223,2^{31})$"
   ]
  },
  {
   "cell_type": "code",
   "execution_count": 7,
   "metadata": {},
   "outputs": [
    {
     "name": "stdout",
     "output_type": "stream",
     "text": [
      "1093698073 143695617 1410714203 460711747\n"
     ]
    }
   ],
   "source": [
    "rd1 = GCL(9, 5, 2**31)\n",
    "rd2 = GCL(11, 5, 2**31)\n",
    "rd3 = GCL(1664523,1013904223, 2**31)\n",
    "rd4 = GCL(1664525,1013904223, 2**31)\n",
    "print(rd1.random(),rd2.random(),rd3.random(),rd4.random())"
   ]
  },
  {
   "cell_type": "markdown",
   "metadata": {},
   "source": [
    "* Ces générateurs sont-ils de période maximale ?"
   ]
  },
  {
   "cell_type": "markdown",
   "metadata": {},
   "source": [
    "<font color=blue>\n",
    "    \n",
    "Générateur rd1 : (a, c, m) = (9, 5, 2^31).\n",
    "\n",
    "Condition 1 : c = 5 est impair.\n",
    "Condition 2 : a = 9 ≡ 1 (mod 4) est satisfaite.\n",
    "Il est de periode max\n",
    "\n",
    "Générateur rd2 : (a, c, m) = (11, 5, 2^31).\n",
    "\n",
    "Condition 1 : c = 5 est impair.\n",
    "Condition 2 : a = 11 ≡ 3 (mod 4) n'est pas équivalent à 1 (mod 4).\n",
    "rd2 n'est pas de période max.\n",
    "\n",
    "Générateur rd3 : (a, c, m) = (1664523, 1013904223, 2^31).\n",
    "\n",
    "Condition 1 : c = 1013904223 est impair.\n",
    "Condition 2 : a = 1664523 ≡ 3 (mod 4) n'est pas équivalent à 1 (mod 4).\n",
    "rd3 n'est pas de période max.\n",
    "\n",
    "\n",
    "Générateur rd4 : (a, c, m) = (1664525, 1013904223, 2^31).\n",
    "\n",
    "Condition 1 : c = 1013904223 est impair.\n",
    "Condition 2 : a = 1664525 ≡ 1 (mod 4) est satisfaite.\n",
    "rd4 est de periode max.\n",
    "    \n",
    "</font>"
   ]
  },
  {
   "cell_type": "markdown",
   "metadata": {},
   "source": [
    "**Premier test.** Soit $n$ un entier fixé et $m$ un entier grand devant $n$. Si l'on tire aléatoirement un nombre $x$ dans $\\{0,\\ldots,m-1\\}$ suivant une loi uniforme, il y a (à peu près) autant de chance que $x \\equiv 0 \\pmod n$ ou que $x \\equiv 1 \\pmod n$ ou que $x \\equiv 2 \\pmod n$, etc. On aimerait donc que les nombres pseudo-aléatoires produits par nos générateurs vérifient aussi cette propriété."
   ]
  },
  {
   "cell_type": "markdown",
   "metadata": {},
   "source": [
    "- Ecrire une fonction `test_modulo` qui tire un échantillon de nombres pseudo-aléatoires produits par un générateur, calcule les congruences modulo $n$ (où $n$ est donné) et affiche la répartition des congruences sous forme d'histogramme. Cette fonction prendra comme paramètres : `rd`, le générateur de nombres pseudo-aléatoires, `nbsample`, la taille de l'échantillon, et `n`, le nombre modulo lequel on calcule les congruences. Indication : Pour tracer l'histogramme, on pourra utiliser la commande `bar` du module `matplotlib.pyplot` (voir document sur Matplotlib sur la page du cours)."
   ]
  },
  {
   "cell_type": "code",
   "execution_count": 8,
   "metadata": {},
   "outputs": [
    {
     "data": {
      "image/png": "[encoded data removed]",
      "text/plain": [
       "<Figure size 640x480 with 1 Axes>"
      ]
     },
     "metadata": {},
     "output_type": "display_data"
    },
    {
     "name": "stdout",
     "output_type": "stream",
     "text": [
      "[0, 2, 0, 0, 0, 1, 2, 1, 1, 0, 1, 0, 0, 1, 1, 0, 0, 0]\n"
     ]
    }
   ],
   "source": [
    "import matplotlib.pyplot as plt\n",
    "\n",
    "def test_modulo(rd, nbsample, n):\n",
    "    liste = [0]*n\n",
    "    liste2 = []\n",
    "    for i in range(nbsample):\n",
    "        \n",
    "        nombre = rd.random() % n\n",
    "        liste[nombre] += 1\n",
    "    for i in range(len(liste)):\n",
    "        liste2.append(str(i+1))\n",
    "    \n",
    "    plt.bar(liste2, liste)\n",
    "    plt.show()\n",
    "    return liste\n",
    "\n",
    "print(test_modulo(rd1, 10, 18))\n",
    "           "
   ]
  },
  {
   "cell_type": "markdown",
   "metadata": {},
   "source": [
    "- Tester les différents générateurs pour des congruences modulo 10 avec des échantillons de 10 000 nombres."
   ]
  },
  {
   "cell_type": "code",
   "execution_count": 9,
   "metadata": {},
   "outputs": [
    {
     "data": {
      "image/png": "[encoded data removed]",
      "text/plain": [
       "<Figure size 640x480 with 1 Axes>"
      ]
     },
     "metadata": {},
     "output_type": "display_data"
    },
    {
     "name": "stdout",
     "output_type": "stream",
     "text": [
      "[988, 972, 989, 1023, 1009, 1002, 1011, 1025, 1003, 978]\n"
     ]
    },
    {
     "data": {
      "image/png": "[encoded data removed]",
      "text/plain": [
       "<Figure size 640x480 with 1 Axes>"
      ]
     },
     "metadata": {},
     "output_type": "display_data"
    },
    {
     "name": "stdout",
     "output_type": "stream",
     "text": [
      "[1033, 1016, 995, 965, 969, 1018, 1025, 973, 978, 1028]\n"
     ]
    },
    {
     "data": {
      "image/png": "[encoded data removed]",
      "text/plain": [
       "<Figure size 640x480 with 1 Axes>"
      ]
     },
     "metadata": {},
     "output_type": "display_data"
    },
    {
     "name": "stdout",
     "output_type": "stream",
     "text": [
      "[1025, 993, 1005, 1001, 990, 1021, 1039, 985, 941, 1000]\n"
     ]
    },
    {
     "data": {
      "image/png": "[encoded data removed]",
      "text/plain": [
       "<Figure size 640x480 with 1 Axes>"
      ]
     },
     "metadata": {},
     "output_type": "display_data"
    },
    {
     "name": "stdout",
     "output_type": "stream",
     "text": [
      "[1052, 1002, 993, 997, 1000, 1014, 986, 942, 969, 1045]\n"
     ]
    }
   ],
   "source": [
    "print(test_modulo(rd1, 10000, 10))\n",
    "print(test_modulo(rd2, 10000, 10))\n",
    "print(test_modulo(rd3, 10000, 10))\n",
    "print(test_modulo(rd4, 10000, 10))\n"
   ]
  },
  {
   "cell_type": "markdown",
   "metadata": {},
   "source": [
    "- Tester les différents générateurs pour des congruences modulo 4 avec des échantillons de 4 000 nombres."
   ]
  },
  {
   "cell_type": "code",
   "execution_count": 10,
   "metadata": {},
   "outputs": [
    {
     "data": {
      "image/png": "[encoded data removed]",
      "text/plain": [
       "<Figure size 640x480 with 1 Axes>"
      ]
     },
     "metadata": {},
     "output_type": "display_data"
    },
    {
     "name": "stdout",
     "output_type": "stream",
     "text": [
      "[1000, 1000, 1000, 1000]\n"
     ]
    },
    {
     "data": {
      "image/png": "[encoded data removed]",
      "text/plain": [
       "<Figure size 640x480 with 1 Axes>"
      ]
     },
     "metadata": {},
     "output_type": "display_data"
    },
    {
     "name": "stdout",
     "output_type": "stream",
     "text": [
      "[2000, 2000, 0, 0]\n"
     ]
    },
    {
     "data": {
      "image/png": "[encoded data removed]",
      "text/plain": [
       "<Figure size 640x480 with 1 Axes>"
      ]
     },
     "metadata": {},
     "output_type": "display_data"
    },
    {
     "name": "stdout",
     "output_type": "stream",
     "text": [
      "[2000, 0, 0, 2000]\n"
     ]
    },
    {
     "data": {
      "image/png": "[encoded data removed]",
      "text/plain": [
       "<Figure size 640x480 with 1 Axes>"
      ]
     },
     "metadata": {},
     "output_type": "display_data"
    },
    {
     "name": "stdout",
     "output_type": "stream",
     "text": [
      "[1000, 1000, 1000, 1000]\n"
     ]
    }
   ],
   "source": [
    "print(test_modulo(rd1, 4000, 4))\n",
    "print(test_modulo(rd2, 4000, 4))\n",
    "print(test_modulo(rd3, 4000, 4))\n",
    "print(test_modulo(rd4, 4000, 4))\n"
   ]
  },
  {
   "cell_type": "markdown",
   "metadata": {},
   "source": [
    "- Parmi les générateurs, lesquels réussissent ce premier test ?"
   ]
  },
  {
   "cell_type": "markdown",
   "metadata": {},
   "source": [
    "<font color=blue>\n",
    "    \n",
    "Ils ont tous reussi cependant rd3 et rd4 avec 4000 essais et en travaillant modulo 4 ne se repartie pas correctement\n",
    "    \n",
    "</font>"
   ]
  },
  {
   "cell_type": "markdown",
   "metadata": {},
   "source": [
    "**Deuxième test.** Si l'on tire aléatoirement trois nombres $x_1,x_2,x_3$ de façon indépendante, suivant une même loi, il y autant de chance que $x_1<x_2<x_3$ ou que $x_1<x_3<x_2$ ou que $x_2<x_1<x_3$, etc. On aimerait donc que les nombres pseudo-aléatoires produits par nos générateurs vérifient aussi cette propriété.\n",
    "\n",
    "- Ecrire une fonction `test_ordre` qui tire un échantillon de triplets de nombres pseudo-aléatoires produits par un générateur, détermine l'ordre de ces triplets et affiche la répartition des ordres trouvés dans l'échantillon sous forme d'histogramme. Cette fonction prendra comme paramètres : `rd`, le générateur de nombres pseudo-aléatoires, et `nbsample`, la taille de l'échantillon."
   ]
  },
  {
   "cell_type": "code",
   "execution_count": 11,
   "metadata": {},
   "outputs": [],
   "source": [
    "def test_ordre(rd: tuple, nbsample: int):\n",
    "    x1x2x3 = 0\n",
    "    x1x3x2 = 0\n",
    "    x2x1x3 = 0\n",
    "    x2x3x1 = 0\n",
    "    x3x1x2 = 0\n",
    "    x3x2x1 = 0\n",
    "    for i in range(nbsample):\n",
    "        if rd1.random() <= rd2.random() <= rd3.random():\n",
    "            x1x2x3 += 1\n",
    "        if rd1.random() <= rd3.random() <= rd2.random():\n",
    "            x1x3x2 += 1\n",
    "        if rd2.random() <= rd1.random() <= rd3.random():\n",
    "            x2x1x3 += 1\n",
    "        if rd2.random() <= rd3.random() <= rd1.random():\n",
    "            x2x3x1 += 1\n",
    "        if rd3.random() <= rd1.random() <= rd2.random():\n",
    "            x3x1x2 += 1\n",
    "        if rd3.random() <= rd2.random() <= rd1.random():\n",
    "            x3x2x1 += 1\n",
    "    \n",
    "    plt.bar([1,2,3,4,5,6], [x1x2x3, x1x3x2, x2x1x3,x2x3x1, x3x1x2,x3x2x1])\n",
    "\n",
    "\n"
   ]
  },
  {
   "cell_type": "markdown",
   "metadata": {},
   "source": [
    "* Tester avec un échantillon de 60 000 triplets de nombres"
   ]
  },
  {
   "cell_type": "code",
   "execution_count": 12,
   "metadata": {},
   "outputs": [
    {
     "name": "stdout",
     "output_type": "stream",
     "text": [
      "None\n"
     ]
    },
    {
     "data": {
      "image/png": "[encoded data removed]",
      "text/plain": [
       "<Figure size 640x480 with 1 Axes>"
      ]
     },
     "metadata": {},
     "output_type": "display_data"
    }
   ],
   "source": [
    "print(test_ordre((rd1.random(),rd2.random(),rd3.random()), 60000))"
   ]
  },
  {
   "cell_type": "markdown",
   "metadata": {},
   "source": [
    "* Parmi les générateurs, lesquels réussissent ce deuxième test ?"
   ]
  },
  {
   "cell_type": "markdown",
   "metadata": {},
   "source": [
    "<font color=blue>\n",
    "    \n",
    "-- *Ecrire la réponse ici.* --\n",
    "    \n",
    "</font>"
   ]
  },
  {
   "cell_type": "markdown",
   "metadata": {},
   "source": [
    "* Finalement, au vu de ces deux tests, quels générateurs semblent être de bons générateurs."
   ]
  },
  {
   "cell_type": "markdown",
   "metadata": {},
   "source": [
    "<font color=blue>\n",
    "    \n",
    "-- *Ecrire la réponse ici.* --\n",
    "    \n",
    "</font>"
   ]
  },
  {
   "cell_type": "markdown",
   "metadata": {},
   "source": [
    "### A.4. Générateur du module `random`"
   ]
  },
  {
   "cell_type": "markdown",
   "metadata": {},
   "source": [
    "* Quel type de générateur est utilisé dans le module `random` de Python ? Quelle est sa période ?"
   ]
  },
  {
   "cell_type": "markdown",
   "metadata": {},
   "source": [
    "<font color=blue>\n",
    "    \n",
    "-- *Ecrire la réponse ici.* --\n",
    "    \n",
    "</font>"
   ]
  },
  {
   "cell_type": "markdown",
   "metadata": {},
   "source": [
    "## B. Fonctions aléatoires complémentaires"
   ]
  },
  {
   "cell_type": "markdown",
   "metadata": {},
   "source": [
    "* Compléter la classe `GCL` avec les méthodes suivantes.\n",
    "    * `uniform` prend en paramètres deux réels `a` et `b` et renvoie un nombre réel tiré selon une loi uniforme sur l'intervalle $[a, b]$.\n",
    "    * `randint`prend en paramètres deux entiers `a` et `b` renvoie un nombre entier tiré selon une loi uniforme entre `a` et `b-1`.\n",
    "    * `choice` prend en paramètre une liste et renvoie un élément de la liste tiré aléatoirement.\n",
    "    * `sample` prend en paramètre une liste `lst` et un entier `k`, et renvoie une liste de longueur `k` composée d'éléments tirés aléatoirement sans remise dans `lst`.\n",
    "    \n",
    "Indication pour la méthode `uniform` : En divisant par $m$ le nombre entier pseudo-aléatoire fourni par la méthode `random`, on obtient un nombre réel pseudo-aléatoire entre $0$ et $1$ ($1$ exclu). Il suffit ensuite d'appliquer une certaine transformation affine pour obtenir un nombre réel pseudo-aléatoire entre $a$ et $b$ ($b$ exclu).\n",
    "\n",
    "Indication pour la méthode `randint` : Arrondir (inférieurement) le nombre réel pseudo-aléatoire fourni par l'appel à la méthode `uniform` sur l'intervalle $[a, b]$.\n",
    "\n",
    "Indication pour la méthode `choice` : Utiliser la méthode `randint`.\n",
    "    \n",
    "```py\n",
    ">>> rd = GCL(1664525, 1013904223, 2**31)\n",
    "\n",
    ">>> rd.uniform(1.5, 3.5)\n",
    "3.185575816487498\n",
    ">>> rd.uniform(1.5, 3.5)\n",
    "2.972734514132826\n",
    "\n",
    ">>> rd.randint(10, 15)\n",
    "10\n",
    ">>> rd.randint(10, 15)\n",
    "13\n",
    "\n",
    ">>> lst = ['A', 'B', 'C', 'D']\n",
    ">>> rd.choice(lst)\n",
    "'C'\n",
    ">>> rd.choice(lst)\n",
    "'A'\n",
    "```"
   ]
  },
  {
   "cell_type": "code",
   "execution_count": 13,
   "metadata": {},
   "outputs": [
    {
     "name": "stdout",
     "output_type": "stream",
     "text": [
      "1.8999875066801906\n"
     ]
    }
   ],
   "source": [
    "import time\n",
    "\n",
    "\n",
    "class GCL:\n",
    "    def __init__(self, a, c, m) -> None:\n",
    "        self.a = a\n",
    "        self.c = c\n",
    "        self.m = m\n",
    "        self.value = int(time.time_ns()) % self.m\n",
    "        \n",
    "    def random(self):\n",
    "        self.value = (self.a * self.value + self.c) % self.m\n",
    "        return self.value\n",
    "        \n",
    "    def seed(self, n):\n",
    "        self.value = n\n",
    "\n",
    "    def uniform(self, a, b):\n",
    "        rand = self.random() / self.m\n",
    "        return a + rand * (b - a)\n",
    "        \n",
    "rd = GCL(1664525, 1013904223, 2**31)\n",
    "\n",
    "print(rd.uniform(1.5, 3.5))"
   ]
  },
  {
   "cell_type": "markdown",
   "metadata": {},
   "source": [
    "## C. Applications"
   ]
  },
  {
   "cell_type": "markdown",
   "metadata": {},
   "source": [
    "Pour les applications proposées ici, on utilisera un (bon) générateur à congruence linéaire.\n",
    "\n",
    "### C.1. Simulation de la marche d'un ivrogne\n",
    "\n",
    "On considère un ivrogne qui se déplace dans le plan. Il part du point de coordonnées $(0,0)$. A chaque étape, il fait un déplacement de longueur 1, aléatoirement dans l'une des quatre directions (vers le haut, vers le bas, à gauche ou à droite).\n",
    "\n",
    "Voilà un exemple d'une telle marche d'ivrogne :\n",
    "```\n",
    "(0, 0)\n",
    "(-1, 0)\n",
    "(-1, -1)\n",
    "(-1, 0)\n",
    "(-2, 0)\n",
    "(-2, 1)\n",
    "(-3, 1)\n",
    "(-3, 0)\n",
    "etc.\n",
    "```\n",
    "\n",
    "* Ecrire une fonction `trace_marche` qui prend en paramètres un générateur aléatoire `rd` et un nombre d'étapes `n`, et qui simule une marche d'ivrogne à `n` étapes et l'affiche dans une fenêtre graphique."
   ]
  },
  {
   "cell_type": "code",
   "execution_count": null,
   "metadata": {},
   "outputs": [],
   "source": []
  },
  {
   "cell_type": "markdown",
   "metadata": {},
   "source": [
    "* Tracer trois marches d'ivrogne à  10 000 étapes."
   ]
  },
  {
   "cell_type": "code",
   "execution_count": null,
   "metadata": {},
   "outputs": [],
   "source": []
  },
  {
   "attachments": {
    "montecarlo.png": {
     "image/png": "[encoded data removed]"
    }
   },
   "cell_type": "markdown",
   "metadata": {},
   "source": [
    "### C.2. Calcul de $\\pi$ par une méthode aléatoire\n",
    "\n",
    "En considère un carré de côté 1 et un quart de disque inscrit dans ce carré comme dans la figure ci-dessous.\n",
    "\n",
    "![montecarlo.png](attachment:montecarlo.png)\n",
    "\n",
    "Si l'on tire un point au hasard dans ce carré, la probabilité que ce point soit dans le quart de disque est :\n",
    "\n",
    "$$\n",
    "\\frac{\\textrm{aire du quart de disque}}{\\textrm{aire du carré}}.\n",
    "$$\n",
    "\n",
    "Ce rapport vaut $\\displaystyle \\frac{\\pi}{4}$. Une façon de calculer $\\pi$ consiste donc à tirer beaucoup de points au hasard dans le carré et à calculer la proportion de points qui tombent dans le quart de disque. Cette proportion multipliée par 4 donne une approximation de $\\pi$."
   ]
  },
  {
   "cell_type": "markdown",
   "metadata": {},
   "source": [
    "* Ecrire une fonction `montecarlo` qui prend en paramètres un générateur aléatoire `rd` et un entier `n`, et calcule une approximation de $\\pi$ selon la méthode décrite plus haut en utilisant `n` points. Cette fonction affichera également une représentation graphique des points tirés (avec une couleur différente selon qu'ils sont ou non dans le quart de disque)."
   ]
  },
  {
   "cell_type": "code",
   "execution_count": null,
   "metadata": {},
   "outputs": [],
   "source": []
  },
  {
   "cell_type": "markdown",
   "metadata": {},
   "source": [
    "* Calculer une approximation de $\\pi$ avec 10 000 points."
   ]
  },
  {
   "cell_type": "code",
   "execution_count": null,
   "metadata": {},
   "outputs": [],
   "source": []
  },
  {
   "cell_type": "markdown",
   "metadata": {},
   "source": [
    "* Combien de décimales correctes de $\\pi$ retrouve-t-on dans cette approximation ? Cette méthode vous semble-t-elle efficace ?"
   ]
  },
  {
   "cell_type": "markdown",
   "metadata": {},
   "source": [
    "<font color=blue>\n",
    "    \n",
    "-- *Ecrire la réponse ici.* --\n",
    "    \n",
    "</font>"
   ]
  },
  {
   "cell_type": "markdown",
   "metadata": {},
   "source": [
    "### C.3. Vignettes à collectionner\n",
    "\n",
    "A la veille d'une Coupe du Monde, on se pose la question suivante : Combien faut-il acheter de paquets de vignettes pour être (presque) sûr de compléter un album de vignettes ?\n",
    "\n",
    "Pour formaliser cette question, on considère que l'album doit être rempli avec $n$ vignettes et que chaque paquet contient $p$ vignettes. La composition des paquets est aléatoire, toutes les vignettes apparaissant avec la même fréquence, mais il ne peut pas y avoir deux vignettes identiques dans un même paquet.\n",
    "\n",
    "* Ecrire une fonction `sim_album` qui simule le remplissage d'un album et renvoie le nombre de paquets nécessaire à ce remplissage. Cette fonction prendra en paramètres le nombre de vignettes de l'album et le nombre de vignettes dans les paquets. Remarque : Cette fonction étant basée sur une simulation aléatoire, il est normal que chaque appel renvoie une valeur différente."
   ]
  },
  {
   "cell_type": "code",
   "execution_count": null,
   "metadata": {},
   "outputs": [],
   "source": []
  },
  {
   "cell_type": "markdown",
   "metadata": {},
   "source": [
    "* On se place dans le cas où $n=20$ et $p=5$. Effectuer $1000$ simulations de remplissage d'album et représenter à l'aide d'un histogramme la répartition du nombre de paquets nécessaires pour remplir un album."
   ]
  },
  {
   "cell_type": "code",
   "execution_count": null,
   "metadata": {},
   "outputs": [],
   "source": []
  },
  {
   "cell_type": "markdown",
   "metadata": {},
   "source": [
    "* On se place toujours dans le cas où $n=20$ et $p=5$. En effectuant $1000$ simulations, estimer le nombre minimum de paquets à acheter pour être sûr à 90% de remplir totalement son album."
   ]
  },
  {
   "cell_type": "code",
   "execution_count": null,
   "metadata": {},
   "outputs": [],
   "source": []
  },
  {
   "cell_type": "markdown",
   "metadata": {},
   "source": [
    "* L'album officiel de la Coupe du Monde 2022 contient 670 vignettes et les paquets contiennent 5 vignettes. Estimer le nombre minimum de paquets à acheter pour être sûr à 90% de remplir totalement son album."
   ]
  },
  {
   "cell_type": "code",
   "execution_count": null,
   "metadata": {},
   "outputs": [],
   "source": []
  }
 ],
 "metadata": {
  "kernelspec": {
   "display_name": "Python 3 (ipykernel)",
   "language": "python",
   "name": "python3"
  },
  "language_info": {
   "codemirror_mode": {
    "name": "ipython",
    "version": 3
   },
   "file_extension": ".py",
   "mimetype": "text/x-python",
   "name": "python",
   "nbconvert_exporter": "python",
   "pygments_lexer": "ipython3",
   "version": "3.11.0"
  }
 },
 "nbformat": 4,
 "nbformat_minor": 4
}
